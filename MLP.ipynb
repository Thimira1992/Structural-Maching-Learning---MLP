{
 "cells": [
  {
   "cell_type": "code",
   "execution_count": 11,
   "id": "interesting-march",
   "metadata": {},
   "outputs": [],
   "source": [
    "import tensorflow as tf\n",
    "import numpy as np\n",
    "from matplotlib import pyplot as plt\n",
    "import sys"
   ]
  },
  {
   "cell_type": "code",
   "execution_count": 12,
   "id": "upset-profile",
   "metadata": {},
   "outputs": [],
   "source": [
    "(x_train, y_train), (x_test, y_test) = tf.keras.datasets.boston_housing.load_data()\n",
    "from sklearn.preprocessing import StandardScaler\n",
    "scaler = StandardScaler()\n",
    "scaler.fit(x_train)\n",
    "x_train = scaler.transform(x_train)\n",
    "scaler.fit(x_test)\n",
    "x_test = scaler.transform(x_test)"
   ]
  },
  {
   "cell_type": "code",
   "execution_count": 13,
   "id": "compound-illinois",
   "metadata": {},
   "outputs": [],
   "source": [
    "class NeuralNetMLP(object):\n",
    "    def __init__(self, n_hidden=30, l2=0., epochs=100, eta=0.001, shuffle=True,\\\n",
    "        minibatch_size=1, seed=None):\n",
    "\n",
    "        self.random = np.random.RandomState(seed)\n",
    "        self.n_hidden = n_hidden\n",
    "        self.l2 = l2\n",
    "        self.epochs = epochs\n",
    "        self.eta = eta\n",
    "        self.shuffle = shuffle\n",
    "        self.minibatch_size = minibatch_size\n",
    "        \n",
    "    def _sigmoid(self, z):\n",
    "        \"\"\"Compute logistic function (sigmoid)\"\"\"\n",
    "        return 1. / (1. + np.exp(-np.clip(z, -250, 250)))\n",
    "    \n",
    "    def _relu(self,x):\n",
    "        return np.clip(x,0,a_max=None)\n",
    "        \n",
    "    def _forward(self, X):\n",
    "        \"\"\"Compute forward propagation step\"\"\"\n",
    "        # step 1: net input of hidden layer\n",
    "        # [n_samples, n_features] dot [n_features, n_hidden]\n",
    "        # -> [n_samples, n_hidden]\n",
    "        z_h = np.dot(X, self.w_h) + self.b_h\n",
    "        # step 2: activation of hidden layer\n",
    "        a_h = self._relu(z_h)\n",
    "        # step 3: net input of output layer\n",
    "        # [n_samples, n_hidden] dot [n_hidden, n_classlabels]\n",
    "        # -> [n_samples, n_classlabels]\n",
    "        z_out = np.dot(a_h, self.w_out) + self.b_out\n",
    "        # step 4: activation output layer\n",
    "        a_out = self._relu(z_out)\n",
    "        return z_h, a_h, z_out, a_out\n",
    "    \n",
    "    def _compute_cost(self, y_enc, output):\n",
    "        \"\"\"Compute cost function.\n",
    "        Parameters\n",
    "        ----------\n",
    "        y_enc : array, shape = (n_samples, n_labels)\n",
    "        one-hot encoded class labels.\n",
    "        output : array, shape = [n_samples, n_output_units]\n",
    "        Activation of the output layer (forward propagation)\n",
    "        Returns\n",
    "        ---------\n",
    "        cost : float\n",
    "        Regularized cost\n",
    "        \"\"\"\n",
    "        L2_term = (self.l2 *(np.sum(self.w_h ** 2.) +np.sum(self.w_out ** 2.)))\n",
    "        output = np.reshape(output, 404)\n",
    "        cost = np.linalg.norm((y_enc - output))**2 + L2_term\n",
    "        return cost\n",
    "    \n",
    "    def predict(self, X):\n",
    "        \"\"\"Predict class labels\n",
    "        Parameters\n",
    "        -----------\n",
    "        X : array, shape = [n_samples, n_features]\n",
    "        Input layer with original features.\n",
    "        Returns:\n",
    "        ----------\n",
    "        y_pred : array, shape = [n_samples]\n",
    "        Predicted class labels.\n",
    "        \"\"\"\n",
    "        z_h, a_h, z_out, a_out = self._forward(X)\n",
    "        return a_out\n",
    "    def dropout(self, X):\n",
    "        r = np.random.randint(2,size=X.shape)\n",
    "        return np.multiply(X,r)\n",
    "    \n",
    "    def fit(self, X_train, y_train, X_valid, y_valid):\n",
    "        \"\"\" Learn weights from training data.\n",
    "        Parameters\n",
    "        -----------\n",
    "        X_train : array, shape = [n_samples, n_features]\n",
    "        Input layer with original features.\n",
    "        y_train : array, shape = [n_samples]\n",
    "        Target class labels.\n",
    "        X_valid : array, shape = [n_samples, n_features]\n",
    "        Sample features for validation during training\n",
    "        y_valid : array, shape = [n_samples]\n",
    "        Sample labels for validation during training\n",
    "        Returns:\n",
    "        ----------\n",
    "        self\n",
    "        \"\"\"\n",
    "        n_output = 1 # no. of class labels\n",
    "        n_features = X_train.shape[1]\n",
    "        \n",
    "        ########################\n",
    "        # Weight initialization\n",
    "        ########################\n",
    "        # weights for input -> hidden\n",
    "        self.b_h = np.zeros(self.n_hidden)\n",
    "        self.w_h = self.random.rand(n_features, self.n_hidden)/ np.sqrt(n_features)\n",
    "        # weights for hidden -> output\n",
    "        self.b_out = np.zeros(n_output)\n",
    "        self.w_out = self.random.normal(loc=0.0, scale=0.1,\n",
    "        size=(self.n_hidden, n_output))\n",
    "        epoch_strlen = len(str(self.epochs)) # for progr. format.\n",
    "        self.eval_ = {'cost': [], 'train_acc': [], 'valid_acc': []}\n",
    "        \n",
    "        # iterate over training epochs\n",
    "        for i in range(self.epochs):\n",
    "        # iterate over minibatch\n",
    "            if i < 99:\n",
    "                self.w_out[0] = self.dropout(self.w_out[0])\n",
    "            indices = np.arange(X_train.shape[0])\n",
    "            if self.shuffle:\n",
    "                self.random.shuffle(indices)\n",
    "            for start_idx in range(0, indices.shape[0] -self.minibatch_size +1, self.minibatch_size):\n",
    "                batch_idx = indices\\\n",
    "                [start_idx:start_idx+self.minibatch_size]\n",
    "                # forward propagation\n",
    "                \n",
    "                z_h, a_h, z_out, a_out = \\\n",
    "                self._forward(X_train[batch_idx])\n",
    "        \n",
    "                ##################\n",
    "                # Backpropagation\n",
    "                ##################\n",
    "                # [n_samples, n_classlabels]\n",
    "                sigma_out = a_out - y_train[batch_idx]\n",
    "                # [n_samples, n_hidden]\n",
    "                relu_derivative_h =np.zeros(len(a_h[0]))\n",
    "                for i in range(len(a_h[0])):\n",
    "                    if a_h[0][i] > 0:\n",
    "                        relu_derivative_h[i] = 1\n",
    "                    else:\n",
    "                        relu_derivative_h[i] = 0\n",
    "                # [n_samples, n_classlabels] dot\n",
    "                # [n_classlabels, # n_hidden]\n",
    "                # -> [n_samples, n_hidden]\n",
    "                sigma_h = (np.dot(sigma_out, self.w_out.T) * \\\n",
    "                relu_derivative_h)\n",
    "                # [n_features, n_samples] dot [n_samples, n_hidden]\n",
    "                # -> [n_features, n_hidden]\n",
    "                grad_w_h = np.dot(x_train[batch_idx].T, sigma_h)\n",
    "                grad_b_h = np.sum(sigma_h, axis=0)\n",
    "                # [n_hidden, n_samples] dot [n_samples, n_classlabels]\n",
    "                # -> [n_hidden, n_classlabels]\n",
    "                grad_w_out = np.dot(a_h.T, sigma_out)\n",
    "                grad_b_out = np.sum(sigma_out, axis=0)\n",
    "\n",
    "                # Regularization and weight updates\n",
    "                delta_w_h = (grad_w_h + self.l2*self.w_h)\n",
    "                delta_b_h = grad_b_h # bias is not regularized\n",
    "                self.w_h -= self.eta * delta_w_h\n",
    "                self.b_h -= self.eta * delta_b_h\n",
    "                delta_w_out = (grad_w_out + self.l2*self.w_out)\n",
    "                delta_b_out = grad_b_out # bias is not regularized\n",
    "                self.w_out -= self.eta * delta_w_out\n",
    "                self.b_out -= self.eta * delta_b_out\n",
    "               \n",
    "                # Evaluation\n",
    "                #############\n",
    "                # Evaluation after each epoch during training\n",
    "            z_h, a_h, z_out, a_out = self._forward(X_train)\n",
    "            cost = self._compute_cost(y_train ,a_out)\n",
    "            y_train_pred = self.predict(X_train)\n",
    "            y_valid_pred = self.predict(X_valid)\n",
    "            train_acc = ((np.sum(y_train == \\\n",
    "            y_train_pred)).astype(np.float) /\n",
    "            X_train.shape[0])\n",
    "            valid_acc = ((np.sum(y_valid ==\\\n",
    "            y_valid_pred)).astype(np.float) /\n",
    "            X_valid.shape[0])\n",
    "            self.eval_['cost'].append(cost)\n",
    "            self.eval_['train_acc'].append(train_acc)\n",
    "            self.eval_['valid_acc'].append(valid_acc)\n",
    "        return self"
   ]
  },
  {
   "cell_type": "code",
   "execution_count": 14,
   "id": "based-pharmacology",
   "metadata": {},
   "outputs": [
    {
     "data": {
      "text/plain": [
       "<__main__.NeuralNetMLP at 0x1d6f3ac59e8>"
      ]
     },
     "execution_count": 14,
     "metadata": {},
     "output_type": "execute_result"
    }
   ],
   "source": [
    "mlp = NeuralNetMLP()\n",
    "mlp.n_hidden=3\n",
    "mlp.fit(x_train, y_train, x_test, y_test)"
   ]
  },
  {
   "cell_type": "code",
   "execution_count": 15,
   "id": "separated-tonight",
   "metadata": {},
   "outputs": [
    {
     "data": {
      "text/plain": [
       "array([ 9.74823363, 16.63019143, 22.15600679, 33.9189871 , 23.7867069 ,\n",
       "       21.0332541 , 29.80780696, 23.22167254, 20.00301706, 19.67968345])"
      ]
     },
     "execution_count": 15,
     "metadata": {},
     "output_type": "execute_result"
    }
   ],
   "source": [
    "y_pred = mlp.predict(x_test)[:,0]\n",
    "y_pred[:10]"
   ]
  },
  {
   "cell_type": "code",
   "execution_count": 16,
   "id": "heavy-closure",
   "metadata": {},
   "outputs": [
    {
     "data": {
      "text/plain": [
       "array([ 7.2, 18.8, 19. , 27. , 22.2, 24.5, 31.2, 22.9, 20.5, 23.2])"
      ]
     },
     "execution_count": 16,
     "metadata": {},
     "output_type": "execute_result"
    }
   ],
   "source": [
    "y_test[:10]"
   ]
  },
  {
   "cell_type": "code",
   "execution_count": 17,
   "id": "amber-tract",
   "metadata": {},
   "outputs": [
    {
     "data": {
      "text/plain": [
       "20.56619897400842"
      ]
     },
     "execution_count": 17,
     "metadata": {},
     "output_type": "execute_result"
    }
   ],
   "source": [
    "from sklearn.metrics import mean_squared_error\n",
    "mean_squared_error(y_test, y_pred)"
   ]
  },
  {
   "cell_type": "code",
   "execution_count": 18,
   "id": "painful-phrase",
   "metadata": {},
   "outputs": [
    {
     "data": {
      "image/png": "[encoded data removed]",
      "text/plain": [
       "<Figure size 432x288 with 1 Axes>"
      ]
     },
     "metadata": {
      "needs_background": "light"
     },
     "output_type": "display_data"
    }
   ],
   "source": [
    "plt.plot(range(mlp.epochs), mlp.eval_['cost'])\n",
    "plt.ylabel('Cost')\n",
    "plt.xlabel('Epochs')\n",
    "plt.show()"
   ]
  },
  {
   "cell_type": "code",
   "execution_count": 19,
   "id": "generous-montgomery",
   "metadata": {},
   "outputs": [
    {
     "data": {
      "image/png": "[encoded data removed]",
      "text/plain": [
       "<Figure size 432x288 with 1 Axes>"
      ]
     },
     "metadata": {
      "needs_background": "light"
     },
     "output_type": "display_data"
    }
   ],
   "source": [
    "x = np.linspace(5,50,1000)\n",
    "plt.scatter(y_test, y_pred, c='b',edgecolor='white',s=50)\n",
    "plt.ylabel('y_pred')\n",
    "plt.xlabel('y_test')\n",
    "plt.plot(x,x,c='black')\n",
    "plt.grid()"
   ]
  },
  {
   "cell_type": "code",
   "execution_count": 20,
   "id": "sought-scholarship",
   "metadata": {},
   "outputs": [
    {
     "data": {
      "text/plain": [
       "numpy.ndarray"
      ]
     },
     "execution_count": 20,
     "metadata": {},
     "output_type": "execute_result"
    }
   ],
   "source": [
    "type(np.random.random(3))"
   ]
  },
  {
   "cell_type": "code",
   "execution_count": null,
   "id": "animated-cabin",
   "metadata": {},
   "outputs": [],
   "source": []
  }
 ],
 "metadata": {
  "kernelspec": {
   "display_name": "Python 3",
   "language": "python",
   "name": "python3"
  },
  "language_info": {
   "codemirror_mode": {
    "name": "ipython",
    "version": 3
   },
   "file_extension": ".py",
   "mimetype": "text/x-python",
   "name": "python",
   "nbconvert_exporter": "python",
   "pygments_lexer": "ipython3",
   "version": "3.6.12"
  }
 },
 "nbformat": 4,
 "nbformat_minor": 5
}
