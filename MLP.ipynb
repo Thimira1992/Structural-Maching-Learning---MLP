{
  "nbformat": 4,
  "nbformat_minor": 5,
  "metadata": {
    "kernelspec": {
      "display_name": "Python 3",
      "language": "python",
      "name": "python3"
    },
    "language_info": {
      "codemirror_mode": {
        "name": "ipython",
        "version": 3
      },
      "file_extension": ".py",
      "mimetype": "text/x-python",
      "name": "python",
      "nbconvert_exporter": "python",
      "pygments_lexer": "ipython3",
      "version": "3.6.12"
    },
    "colab": {
      "name": "MLP.ipynb",
      "provenance": []
    }
  },
  "cells": [
    {
      "cell_type": "code",
      "metadata": {
        "id": "interesting-march"
      },
      "source": [
        "import tensorflow as tf\n",
        "import numpy as np\n",
        "from matplotlib import pyplot as plt\n",
        "import sys"
      ],
      "id": "interesting-march",
      "execution_count": 1,
      "outputs": []
    },
    {
      "cell_type": "code",
      "metadata": {
        "id": "upset-profile",
        "colab": {
          "base_uri": "https://localhost:8080/"
        },
        "outputId": "8ba2217d-1fe0-4e31-98c3-4547cdc4fc67"
      },
      "source": [
        "(x_train, y_train), (x_test, y_test) = tf.keras.datasets.boston_housing.load_data()\n",
        "from sklearn.preprocessing import StandardScaler\n",
        "scaler = StandardScaler()\n",
        "scaler.fit(x_train)\n",
        "x_train = scaler.transform(x_train)\n",
        "scaler.fit(x_test)\n",
        "x_test = scaler.transform(x_test)"
      ],
      "id": "upset-profile",
      "execution_count": 2,
      "outputs": [
        {
          "output_type": "stream",
          "text": [
            "Downloading data from https://storage.googleapis.com/tensorflow/tf-keras-datasets/boston_housing.npz\n",
            "57344/57026 [==============================] - 0s 0us/step\n"
          ],
          "name": "stdout"
        }
      ]
    },
    {
      "cell_type": "code",
      "metadata": {
        "id": "compound-illinois"
      },
      "source": [
        "class NeuralNetMLP(object):\n",
        "    def __init__(self, n_hidden=30, l2=0., epochs=100, eta=0.001, shuffle=True,\\\n",
        "        minibatch_size=1, seed=None):\n",
        "\n",
        "        self.random = np.random.RandomState(seed)\n",
        "        self.n_hidden = n_hidden\n",
        "        self.l2 = l2\n",
        "        self.epochs = epochs\n",
        "        self.eta = eta\n",
        "        self.shuffle = shuffle\n",
        "        self.minibatch_size = minibatch_size\n",
        "        \n",
        "    def _sigmoid(self, z):\n",
        "        \"\"\"Compute logistic function (sigmoid)\"\"\"\n",
        "        return 1. / (1. + np.exp(-np.clip(z, -250, 250)))\n",
        "    \n",
        "    def _relu(self,x):\n",
        "        return np.clip(x,0,a_max=None)\n",
        "        \n",
        "    def _forward(self, X):\n",
        "        \"\"\"Compute forward propagation step\"\"\"\n",
        "        # step 1: net input of hidden layer\n",
        "        # [n_samples, n_features] dot [n_features, n_hidden]\n",
        "        # -> [n_samples, n_hidden]\n",
        "        z_h = np.dot(X, self.w_h) + self.b_h\n",
        "        # step 2: activation of hidden layer\n",
        "        a_h = self._relu(z_h)\n",
        "        # step 3: net input of output layer\n",
        "        # [n_samples, n_hidden] dot [n_hidden, n_classlabels]\n",
        "        # -> [n_samples, n_classlabels]\n",
        "        z_out = np.dot(a_h, self.w_out) + self.b_out\n",
        "        # step 4: activation output layer\n",
        "        a_out = self._relu(z_out)\n",
        "        return z_h, a_h, z_out, a_out\n",
        "    \n",
        "    def _compute_cost(self, y_enc, output):\n",
        "        \"\"\"Compute cost function.\n",
        "        Parameters\n",
        "        ----------\n",
        "        y_enc : array, shape = (n_samples, n_labels)\n",
        "        one-hot encoded class labels.\n",
        "        output : array, shape = [n_samples, n_output_units]\n",
        "        Activation of the output layer (forward propagation)\n",
        "        Returns\n",
        "        ---------\n",
        "        cost : float\n",
        "        Regularized cost\n",
        "        \"\"\"\n",
        "        L2_term = (self.l2 *(np.sum(self.w_h ** 2.) +np.sum(self.w_out ** 2.)))\n",
        "        output = np.reshape(output, 404)\n",
        "        cost = np.linalg.norm((y_enc - output))**2 + L2_term\n",
        "        return cost\n",
        "    \n",
        "    def predict(self, X):\n",
        "        \"\"\"Predict class labels\n",
        "        Parameters\n",
        "        -----------\n",
        "        X : array, shape = [n_samples, n_features]\n",
        "        Input layer with original features.\n",
        "        Returns:\n",
        "        ----------\n",
        "        y_pred : array, shape = [n_samples]\n",
        "        Predicted class labels.\n",
        "        \"\"\"\n",
        "        z_h, a_h, z_out, a_out = self._forward(X)\n",
        "        return a_out\n",
        "    def dropout(self, X):\n",
        "        r = np.random.randint(2,size=X.shape)\n",
        "        return np.multiply(X,r)\n",
        "    \n",
        "    def fit(self, X_train, y_train, X_valid, y_valid):\n",
        "        \"\"\" Learn weights from training data.\n",
        "        Parameters\n",
        "        -----------\n",
        "        X_train : array, shape = [n_samples, n_features]\n",
        "        Input layer with original features.\n",
        "        y_train : array, shape = [n_samples]\n",
        "        Target class labels.\n",
        "        X_valid : array, shape = [n_samples, n_features]\n",
        "        Sample features for validation during training\n",
        "        y_valid : array, shape = [n_samples]\n",
        "        Sample labels for validation during training\n",
        "        Returns:\n",
        "        ----------\n",
        "        self\n",
        "        \"\"\"\n",
        "        n_output = 1 # no. of class labels\n",
        "        n_features = X_train.shape[1]\n",
        "        \n",
        "        ########################\n",
        "        # Weight initialization\n",
        "        ########################\n",
        "        # weights for input -> hidden\n",
        "        self.b_h = np.zeros(self.n_hidden)\n",
        "        self.w_h = self.random.rand(n_features, self.n_hidden)/ np.sqrt(n_features)\n",
        "        # weights for hidden -> output\n",
        "        self.b_out = np.zeros(n_output)\n",
        "        self.w_out = self.random.normal(loc=0.0, scale=0.1,\n",
        "        size=(self.n_hidden, n_output))\n",
        "        epoch_strlen = len(str(self.epochs)) # for progr. format.\n",
        "        self.eval_ = {'cost': [], 'train_acc': [], 'valid_acc': []}\n",
        "        \n",
        "        # iterate over training epochs\n",
        "        for i in range(self.epochs):\n",
        "        # iterate over minibatch\n",
        "            if i < 99:\n",
        "                self.w_out[0] = self.dropout(self.w_out[0])\n",
        "            indices = np.arange(X_train.shape[0])\n",
        "            if self.shuffle:\n",
        "                self.random.shuffle(indices)\n",
        "            for start_idx in range(0, indices.shape[0] -self.minibatch_size +1, self.minibatch_size):\n",
        "                batch_idx = indices\\\n",
        "                [start_idx:start_idx+self.minibatch_size]\n",
        "                # forward propagation\n",
        "                \n",
        "                z_h, a_h, z_out, a_out = \\\n",
        "                self._forward(X_train[batch_idx])\n",
        "        \n",
        "                ##################\n",
        "                # Backpropagation\n",
        "                ##################\n",
        "                # [n_samples, n_classlabels]\n",
        "                sigma_out = a_out - y_train[batch_idx]\n",
        "                # [n_samples, n_hidden]\n",
        "                relu_derivative_h =np.zeros(len(a_h[0]))\n",
        "                for i in range(len(a_h[0])):\n",
        "                    if a_h[0][i] > 0:\n",
        "                        relu_derivative_h[i] = 1\n",
        "                    else:\n",
        "                        relu_derivative_h[i] = 0\n",
        "                # [n_samples, n_classlabels] dot\n",
        "                # [n_classlabels, # n_hidden]\n",
        "                # -> [n_samples, n_hidden]\n",
        "                sigma_h = (np.dot(sigma_out, self.w_out.T) * \\\n",
        "                relu_derivative_h)\n",
        "                # [n_features, n_samples] dot [n_samples, n_hidden]\n",
        "                # -> [n_features, n_hidden]\n",
        "                grad_w_h = np.dot(x_train[batch_idx].T, sigma_h)\n",
        "                grad_b_h = np.sum(sigma_h, axis=0)\n",
        "                # [n_hidden, n_samples] dot [n_samples, n_classlabels]\n",
        "                # -> [n_hidden, n_classlabels]\n",
        "                grad_w_out = np.dot(a_h.T, sigma_out)\n",
        "                grad_b_out = np.sum(sigma_out, axis=0)\n",
        "\n",
        "                # Regularization and weight updates\n",
        "                delta_w_h = (grad_w_h + self.l2*self.w_h)\n",
        "                delta_b_h = grad_b_h # bias is not regularized\n",
        "                self.w_h -= self.eta * delta_w_h\n",
        "                self.b_h -= self.eta * delta_b_h\n",
        "                delta_w_out = (grad_w_out + self.l2*self.w_out)\n",
        "                delta_b_out = grad_b_out # bias is not regularized\n",
        "                self.w_out -= self.eta * delta_w_out\n",
        "                self.b_out -= self.eta * delta_b_out\n",
        "               \n",
        "                # Evaluation\n",
        "                #############\n",
        "                # Evaluation after each epoch during training\n",
        "            z_h, a_h, z_out, a_out = self._forward(X_train)\n",
        "            cost = self._compute_cost(y_train ,a_out)\n",
        "            y_train_pred = self.predict(X_train)\n",
        "            y_valid_pred = self.predict(X_valid)\n",
        "            train_acc = ((np.sum(y_train == \\\n",
        "            y_train_pred)).astype(np.float) /\n",
        "            X_train.shape[0])\n",
        "            valid_acc = ((np.sum(y_valid ==\\\n",
        "            y_valid_pred)).astype(np.float) /\n",
        "            X_valid.shape[0])\n",
        "            self.eval_['cost'].append(cost)\n",
        "            self.eval_['train_acc'].append(train_acc)\n",
        "            self.eval_['valid_acc'].append(valid_acc)\n",
        "        return self"
      ],
      "id": "compound-illinois",
      "execution_count": 3,
      "outputs": []
    },
    {
      "cell_type": "code",
      "metadata": {
        "id": "based-pharmacology",
        "colab": {
          "base_uri": "https://localhost:8080/"
        },
        "outputId": "f0b659d9-908a-4eda-ffb5-1dccc65799b8"
      },
      "source": [
        "mlp = NeuralNetMLP()\n",
        "mlp.n_hidden=3\n",
        "mlp.fit(x_train, y_train, x_test, y_test)"
      ],
      "id": "based-pharmacology",
      "execution_count": 4,
      "outputs": [
        {
          "output_type": "execute_result",
          "data": {
            "text/plain": [
              "<__main__.NeuralNetMLP at 0x7f8e2b3c6690>"
            ]
          },
          "metadata": {
            "tags": []
          },
          "execution_count": 4
        }
      ]
    },
    {
      "cell_type": "code",
      "metadata": {
        "id": "separated-tonight",
        "colab": {
          "base_uri": "https://localhost:8080/"
        },
        "outputId": "cc6ea8b7-ef60-4a29-e27e-501d72a326ba"
      },
      "source": [
        "y_pred = mlp.predict(x_test)[:,0]\n",
        "y_pred[:10]"
      ],
      "id": "separated-tonight",
      "execution_count": 5,
      "outputs": [
        {
          "output_type": "execute_result",
          "data": {
            "text/plain": [
              "array([10.1408279 , 19.54301057, 23.13983432, 36.59140221, 24.35568279,\n",
              "       22.44530999, 29.36014137, 23.29364124, 20.06186631, 19.70877301])"
            ]
          },
          "metadata": {
            "tags": []
          },
          "execution_count": 5
        }
      ]
    },
    {
      "cell_type": "code",
      "metadata": {
        "id": "heavy-closure",
        "colab": {
          "base_uri": "https://localhost:8080/"
        },
        "outputId": "6e494e26-51b6-4536-b2e1-5d58f1c89311"
      },
      "source": [
        "y_test[:10]"
      ],
      "id": "heavy-closure",
      "execution_count": 6,
      "outputs": [
        {
          "output_type": "execute_result",
          "data": {
            "text/plain": [
              "array([ 7.2, 18.8, 19. , 27. , 22.2, 24.5, 31.2, 22.9, 20.5, 23.2])"
            ]
          },
          "metadata": {
            "tags": []
          },
          "execution_count": 6
        }
      ]
    },
    {
      "cell_type": "code",
      "metadata": {
        "id": "amber-tract",
        "colab": {
          "base_uri": "https://localhost:8080/"
        },
        "outputId": "ccfed80f-2408-4429-f901-8f1eca133aac"
      },
      "source": [
        "from sklearn.metrics import mean_squared_error\n",
        "mean_squared_error(y_test, y_pred)"
      ],
      "id": "amber-tract",
      "execution_count": 7,
      "outputs": [
        {
          "output_type": "execute_result",
          "data": {
            "text/plain": [
              "26.595278656865993"
            ]
          },
          "metadata": {
            "tags": []
          },
          "execution_count": 7
        }
      ]
    },
    {
      "cell_type": "code",
      "metadata": {
        "id": "painful-phrase",
        "colab": {
          "base_uri": "https://localhost:8080/",
          "height": 279
        },
        "outputId": "96945505-e823-48a9-ef54-d993d0bb0a64"
      },
      "source": [
        "plt.plot(range(mlp.epochs), mlp.eval_['cost'])\n",
        "plt.ylabel('Cost')\n",
        "plt.xlabel('Epochs')\n",
        "plt.show()"
      ],
      "id": "painful-phrase",
      "execution_count": 8,
      "outputs": [
        {
          "output_type": "display_data",
          "data": {
            "image/png": "[encoded data removed]",
            "text/plain": [
              "<Figure size 432x288 with 1 Axes>"
            ]
          },
          "metadata": {
            "tags": [],
            "needs_background": "light"
          }
        }
      ]
    },
    {
      "cell_type": "code",
      "metadata": {
        "id": "generous-montgomery",
        "colab": {
          "base_uri": "https://localhost:8080/",
          "height": 280
        },
        "outputId": "4ee77858-f5d5-4925-9513-49c7e42e0756"
      },
      "source": [
        "x = np.linspace(5,50,1000)\n",
        "plt.scatter(y_test, y_pred, c='b',edgecolor='white',s=50)\n",
        "plt.ylabel('y_pred')\n",
        "plt.xlabel('y_test')\n",
        "plt.plot(x,x,c='black')\n",
        "plt.grid()"
      ],
      "id": "generous-montgomery",
      "execution_count": 9,
      "outputs": [
        {
          "output_type": "display_data",
          "data": {
            "image/png": "[encoded data removed]",
            "text/plain": [
              "<Figure size 432x288 with 1 Axes>"
            ]
          },
          "metadata": {
            "tags": [],
            "needs_background": "light"
          }
        }
      ]
    },
    {
      "cell_type": "code",
      "metadata": {
        "colab": {
          "base_uri": "https://localhost:8080/",
          "height": 542
        },
        "id": "mxl7INMfyJqm",
        "outputId": "10fd5d2d-cf84-419e-8908-f36966609ee0"
      },
      "source": [
        "mlp = NeuralNetMLP()\n",
        "mlp.n_hidden=10\n",
        "mlp.fit(x_train, y_train, x_test, y_test)\n",
        "\n",
        "y_pred = mlp.predict(x_test)[:,0]\n",
        "y_pred[:10]\n",
        "\n",
        "y_test[:10]\n",
        "\n",
        "from sklearn.metrics import mean_squared_error\n",
        "mean_squared_error(y_test, y_pred)\n",
        "\n",
        "plt.plot(range(mlp.epochs), mlp.eval_['cost'])\n",
        "plt.ylabel('Cost')\n",
        "plt.xlabel('Epochs')\n",
        "plt.show()\n",
        "\n",
        "x = np.linspace(5,50,1000)\n",
        "plt.scatter(y_test, y_pred, c='b',edgecolor='white',s=50)\n",
        "plt.ylabel('y_pred')\n",
        "plt.xlabel('y_test')\n",
        "plt.plot(x,x,c='black')\n",
        "plt.grid()"
      ],
      "id": "mxl7INMfyJqm",
      "execution_count": 10,
      "outputs": [
        {
          "output_type": "display_data",
          "data": {
            "image/png": "[encoded data removed]",
            "text/plain": [
              "<Figure size 432x288 with 1 Axes>"
            ]
          },
          "metadata": {
            "tags": [],
            "needs_background": "light"
          }
        },
        {
          "output_type": "display_data",
          "data": {
            "image/png": "[encoded data removed]",
            "text/plain": [
              "<Figure size 432x288 with 1 Axes>"
            ]
          },
          "metadata": {
            "tags": [],
            "needs_background": "light"
          }
        }
      ]
    },
    {
      "cell_type": "code",
      "metadata": {
        "colab": {
          "base_uri": "https://localhost:8080/"
        },
        "id": "Pu6GlDbU0q6T",
        "outputId": "2a48ed36-e450-4aea-e28c-f93ec2e4a2c4"
      },
      "source": [
        "from sklearn.metrics import mean_squared_error\n",
        "mean_squared_error(y_test, y_pred)"
      ],
      "id": "Pu6GlDbU0q6T",
      "execution_count": 11,
      "outputs": [
        {
          "output_type": "execute_result",
          "data": {
            "text/plain": [
              "21.50624066503686"
            ]
          },
          "metadata": {
            "tags": []
          },
          "execution_count": 11
        }
      ]
    }
  ]
}